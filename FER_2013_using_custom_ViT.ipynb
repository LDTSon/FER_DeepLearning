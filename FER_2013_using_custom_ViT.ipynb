{
 "cells": [
  {
   "cell_type": "code",
   "execution_count": 1,
   "id": "977550b8",
   "metadata": {
    "execution": {
     "iopub.execute_input": "2023-12-13T17:50:55.493567Z",
     "iopub.status.busy": "2023-12-13T17:50:55.493181Z",
     "iopub.status.idle": "2023-12-13T17:51:00.021345Z",
     "shell.execute_reply": "2023-12-13T17:51:00.020536Z"
    },
    "papermill": {
     "duration": 4.538061,
     "end_time": "2023-12-13T17:51:00.023688",
     "exception": false,
     "start_time": "2023-12-13T17:50:55.485627",
     "status": "completed"
    },
    "tags": []
   },
   "outputs": [
    {
     "name": "stderr",
     "output_type": "stream",
     "text": [
      "/opt/conda/lib/python3.10/site-packages/scipy/__init__.py:146: UserWarning: A NumPy version >=1.16.5 and <1.23.0 is required for this version of SciPy (detected version 1.24.3\n",
      "  warnings.warn(f\"A NumPy version >={np_minversion} and <{np_maxversion}\"\n"
     ]
    }
   ],
   "source": [
    "import os\n",
    "import copy\n",
    "from PIL import Image\n",
    "import torch\n",
    "import torch.nn as nn\n",
    "import torchvision\n",
    "from torchvision import transforms\n",
    "from torch.utils import data\n",
    "from torch.utils.data import Dataset, ConcatDataset\n",
    "from torch.utils.data import DataLoader\n",
    "import torchvision.models as models\n",
    "import torch.optim as optim\n",
    "from PIL import Image\n",
    "import numpy as np\n",
    "from torchvision.datasets import ImageFolder\n",
    "\n",
    "from sklearn.metrics import accuracy_score"
   ]
  },
  {
   "cell_type": "code",
   "execution_count": 2,
   "id": "846e78af",
   "metadata": {
    "execution": {
     "iopub.execute_input": "2023-12-13T17:51:00.036634Z",
     "iopub.status.busy": "2023-12-13T17:51:00.036232Z",
     "iopub.status.idle": "2023-12-13T17:51:00.044878Z",
     "shell.execute_reply": "2023-12-13T17:51:00.044136Z"
    },
    "papermill": {
     "duration": 0.017024,
     "end_time": "2023-12-13T17:51:00.046710",
     "exception": false,
     "start_time": "2023-12-13T17:51:00.029686",
     "status": "completed"
    },
    "tags": []
   },
   "outputs": [],
   "source": [
    "augment_transform = transforms.Compose([\n",
    "    transforms.ToTensor(),\n",
    "    # transforms.Grayscale(num_output_channels=1),\n",
    "    transforms.Resize((224, 224), antialias=True),\n",
    "    transforms.RandomHorizontalFlip(),\n",
    "    transforms.RandomResizedCrop(224, scale=(0.8, 1.2), antialias=True),\n",
    "    transforms.RandomApply([transforms.ColorJitter(brightness=0.5, contrast=0.5, saturation=0.5)], p=0.5),\n",
    "    transforms.RandomApply([transforms.RandomAffine(0, translate=(0.2, 0.2))], p=0.5),\n",
    "    transforms.RandomApply([transforms.RandomRotation(10)], p=0.5),\n",
    "    transforms.Normalize(mean = (0.5, 0.5, 0.5), std = (0.5, 0.5, 0.5))\n",
    "])\n",
    "\n",
    "transform = transforms.Compose([\n",
    "    transforms.ToTensor(),\n",
    "    transforms.Resize((224, 224), antialias=True),\n",
    "    # transforms.Grayscale(num_output_channels=1)\n",
    "    transforms.Normalize(mean = (0.5, 0.5, 0.5), std = (0.5, 0.5, 0.5))\n",
    "])"
   ]
  },
  {
   "cell_type": "code",
   "execution_count": 3,
   "id": "366aac5c",
   "metadata": {
    "execution": {
     "iopub.execute_input": "2023-12-13T17:51:00.059587Z",
     "iopub.status.busy": "2023-12-13T17:51:00.058851Z",
     "iopub.status.idle": "2023-12-13T17:51:20.520477Z",
     "shell.execute_reply": "2023-12-13T17:51:20.519631Z"
    },
    "papermill": {
     "duration": 20.470506,
     "end_time": "2023-12-13T17:51:20.522782",
     "exception": false,
     "start_time": "2023-12-13T17:51:00.052276",
     "status": "completed"
    },
    "tags": []
   },
   "outputs": [],
   "source": [
    "path = \"/kaggle/input/fer2013\"\n",
    "train_dataset = ImageFolder(path+\"/train\", transform=transform)\n",
    "augment_dataset = ImageFolder(path+\"/train\", transform=augment_transform)\n",
    "train_dataset = ConcatDataset([train_dataset, augment_dataset])\n",
    "test_dataset = ImageFolder(path+\"/test\", transform=transform)"
   ]
  },
  {
   "cell_type": "code",
   "execution_count": 4,
   "id": "ae257157",
   "metadata": {
    "execution": {
     "iopub.execute_input": "2023-12-13T17:51:20.535397Z",
     "iopub.status.busy": "2023-12-13T17:51:20.535088Z",
     "iopub.status.idle": "2023-12-13T17:51:20.637092Z",
     "shell.execute_reply": "2023-12-13T17:51:20.636144Z"
    },
    "papermill": {
     "duration": 0.110829,
     "end_time": "2023-12-13T17:51:20.639375",
     "exception": false,
     "start_time": "2023-12-13T17:51:20.528546",
     "status": "completed"
    },
    "tags": []
   },
   "outputs": [
    {
     "name": "stdout",
     "output_type": "stream",
     "text": [
      "57418\n",
      "7178\n",
      "torch.Size([3, 224, 224])\n"
     ]
    }
   ],
   "source": [
    "print(len(train_dataset))\n",
    "print(len(test_dataset))\n",
    "print(test_dataset[2][0].size())"
   ]
  },
  {
   "cell_type": "code",
   "execution_count": 5,
   "id": "25eb57a7",
   "metadata": {
    "execution": {
     "iopub.execute_input": "2023-12-13T17:51:20.652360Z",
     "iopub.status.busy": "2023-12-13T17:51:20.652013Z",
     "iopub.status.idle": "2023-12-13T17:51:20.978446Z",
     "shell.execute_reply": "2023-12-13T17:51:20.977462Z"
    },
    "papermill": {
     "duration": 0.335614,
     "end_time": "2023-12-13T17:51:20.980911",
     "exception": false,
     "start_time": "2023-12-13T17:51:20.645297",
     "status": "completed"
    },
    "tags": []
   },
   "outputs": [],
   "source": [
    "VALID_RATIO = 0.9\n",
    "n_train_examples = int(len(train_dataset) * VALID_RATIO)\n",
    "n_valid_examples = len(train_dataset) - n_train_examples\n",
    "train_data, valid_data = data.random_split(train_dataset, [n_train_examples, n_valid_examples])\n",
    "valid_data = copy.deepcopy(valid_data)\n",
    "valid_data.dataset.transform = transform"
   ]
  },
  {
   "cell_type": "code",
   "execution_count": 6,
   "id": "98583065",
   "metadata": {
    "execution": {
     "iopub.execute_input": "2023-12-13T17:51:20.993881Z",
     "iopub.status.busy": "2023-12-13T17:51:20.993571Z",
     "iopub.status.idle": "2023-12-13T17:51:21.002532Z",
     "shell.execute_reply": "2023-12-13T17:51:21.001640Z"
    },
    "papermill": {
     "duration": 0.017655,
     "end_time": "2023-12-13T17:51:21.004534",
     "exception": false,
     "start_time": "2023-12-13T17:51:20.986879",
     "status": "completed"
    },
    "tags": []
   },
   "outputs": [],
   "source": [
    "def collate_fn(dataset):\n",
    "  images = []\n",
    "  labels = []\n",
    "  for image, label in dataset:\n",
    "      images.append(image)\n",
    "      labels.append(label)\n",
    "\n",
    "  pixel_values = torch.stack(images)\n",
    "  labels = torch.tensor(labels)\n",
    "  return {\"pixel_values\": pixel_values, \"labels\": labels}\n",
    "\n",
    "Batch_Size = 16\n",
    "train_loader = DataLoader(train_dataset, collate_fn=collate_fn, batch_size=Batch_Size, shuffle=True, num_workers=2)\n",
    "valid_loader = DataLoader(valid_data, collate_fn=collate_fn, batch_size=Batch_Size, shuffle=False, num_workers=2)\n",
    "test_loader = DataLoader(test_dataset, collate_fn=collate_fn, batch_size=Batch_Size, shuffle=False, num_workers=2)"
   ]
  },
  {
   "cell_type": "code",
   "execution_count": 7,
   "id": "8fb70bf2",
   "metadata": {
    "execution": {
     "iopub.execute_input": "2023-12-13T17:51:21.016888Z",
     "iopub.status.busy": "2023-12-13T17:51:21.016574Z",
     "iopub.status.idle": "2023-12-13T17:51:21.081704Z",
     "shell.execute_reply": "2023-12-13T17:51:21.080896Z"
    },
    "papermill": {
     "duration": 0.073432,
     "end_time": "2023-12-13T17:51:21.083589",
     "exception": false,
     "start_time": "2023-12-13T17:51:21.010157",
     "status": "completed"
    },
    "tags": []
   },
   "outputs": [],
   "source": [
    "device = device = torch.device(\"cuda\" if torch.cuda.is_available() else \"cpu\")"
   ]
  },
  {
   "cell_type": "code",
   "execution_count": 8,
   "id": "b758827b",
   "metadata": {
    "execution": {
     "iopub.execute_input": "2023-12-13T17:51:21.096364Z",
     "iopub.status.busy": "2023-12-13T17:51:21.096054Z",
     "iopub.status.idle": "2023-12-13T17:51:21.208460Z",
     "shell.execute_reply": "2023-12-13T17:51:21.207560Z"
    },
    "papermill": {
     "duration": 0.121023,
     "end_time": "2023-12-13T17:51:21.210438",
     "exception": false,
     "start_time": "2023-12-13T17:51:21.089415",
     "status": "completed"
    },
    "tags": []
   },
   "outputs": [
    {
     "data": {
      "text/plain": [
       "0"
      ]
     },
     "execution_count": 8,
     "metadata": {},
     "output_type": "execute_result"
    }
   ],
   "source": [
    "import gc\n",
    "torch.cuda.empty_cache()\n",
    "gc.collect()"
   ]
  },
  {
   "cell_type": "code",
   "execution_count": 9,
   "id": "093551cd",
   "metadata": {
    "execution": {
     "iopub.execute_input": "2023-12-13T17:51:21.231314Z",
     "iopub.status.busy": "2023-12-13T17:51:21.230995Z",
     "iopub.status.idle": "2023-12-13T17:51:23.470811Z",
     "shell.execute_reply": "2023-12-13T17:51:23.470025Z"
    },
    "papermill": {
     "duration": 2.248817,
     "end_time": "2023-12-13T17:51:23.473073",
     "exception": false,
     "start_time": "2023-12-13T17:51:21.224256",
     "status": "completed"
    },
    "tags": []
   },
   "outputs": [],
   "source": [
    "from transformers import ViTConfig, ViTForImageClassification"
   ]
  },
  {
   "cell_type": "code",
   "execution_count": 10,
   "id": "2531b2ac",
   "metadata": {
    "execution": {
     "iopub.execute_input": "2023-12-13T17:51:23.486407Z",
     "iopub.status.busy": "2023-12-13T17:51:23.486007Z",
     "iopub.status.idle": "2023-12-13T17:51:23.490510Z",
     "shell.execute_reply": "2023-12-13T17:51:23.489731Z"
    },
    "papermill": {
     "duration": 0.01329,
     "end_time": "2023-12-13T17:51:23.492373",
     "exception": false,
     "start_time": "2023-12-13T17:51:23.479083",
     "status": "completed"
    },
    "tags": []
   },
   "outputs": [],
   "source": [
    "configuration = ViTConfig()\n",
    "configuration.num_labels = 7\n",
    "configuration.return_dict = False"
   ]
  },
  {
   "cell_type": "code",
   "execution_count": 11,
   "id": "52f137dc",
   "metadata": {
    "execution": {
     "iopub.execute_input": "2023-12-13T17:51:23.504795Z",
     "iopub.status.busy": "2023-12-13T17:51:23.504506Z",
     "iopub.status.idle": "2023-12-13T17:51:30.314978Z",
     "shell.execute_reply": "2023-12-13T17:51:30.314002Z"
    },
    "papermill": {
     "duration": 6.81933,
     "end_time": "2023-12-13T17:51:30.317363",
     "exception": false,
     "start_time": "2023-12-13T17:51:23.498033",
     "status": "completed"
    },
    "tags": []
   },
   "outputs": [
    {
     "data": {
      "application/vnd.jupyter.widget-view+json": {
       "model_id": "65dd92b13e4748ac8e03555e9effc660",
       "version_major": 2,
       "version_minor": 0
      },
      "text/plain": [
       "config.json:   0%|          | 0.00/69.7k [00:00<?, ?B/s]"
      ]
     },
     "metadata": {},
     "output_type": "display_data"
    },
    {
     "data": {
      "application/vnd.jupyter.widget-view+json": {
       "model_id": "4de10792efac47659eedb39f9e400048",
       "version_major": 2,
       "version_minor": 0
      },
      "text/plain": [
       "model.safetensors:   0%|          | 0.00/346M [00:00<?, ?B/s]"
      ]
     },
     "metadata": {},
     "output_type": "display_data"
    }
   ],
   "source": [
    "model = ViTForImageClassification(configuration).from_pretrained('google/vit-base-patch16-224')\n",
    "model.num_labels = 7\n",
    "model.name = 'ViT'\n",
    "model.classifier = nn.Linear(configuration.hidden_size, configuration.num_labels)\n",
    "vit = model.to(device)\n",
    "\n",
    "for param in vit.vit.parameters():\n",
    "    param.requires_grad = False\n",
    "for param in vit.classifier.parameters():\n",
    "    param.requires_grad = True\n",
    "for param in vit.vit.encoder.layer[-1].parameters():\n",
    "    param.requires_grad = True\n",
    "for param in vit.vit.layernorm.parameters():\n",
    "    param.requires_grad = True"
   ]
  },
  {
   "cell_type": "code",
   "execution_count": 12,
   "id": "80d934b6",
   "metadata": {
    "execution": {
     "iopub.execute_input": "2023-12-13T17:51:30.332563Z",
     "iopub.status.busy": "2023-12-13T17:51:30.331820Z",
     "iopub.status.idle": "2023-12-13T17:51:30.340470Z",
     "shell.execute_reply": "2023-12-13T17:51:30.339585Z"
    },
    "papermill": {
     "duration": 0.018639,
     "end_time": "2023-12-13T17:51:30.343157",
     "exception": false,
     "start_time": "2023-12-13T17:51:30.324518",
     "status": "completed"
    },
    "tags": []
   },
   "outputs": [
    {
     "name": "stdout",
     "output_type": "stream",
     "text": [
      "vit.embeddings.cls_token False\n",
      "vit.embeddings.position_embeddings False\n",
      "vit.embeddings.patch_embeddings.projection.weight False\n",
      "vit.embeddings.patch_embeddings.projection.bias False\n",
      "vit.encoder.layer.0.attention.attention.query.weight False\n",
      "vit.encoder.layer.0.attention.attention.query.bias False\n",
      "vit.encoder.layer.0.attention.attention.key.weight False\n",
      "vit.encoder.layer.0.attention.attention.key.bias False\n",
      "vit.encoder.layer.0.attention.attention.value.weight False\n",
      "vit.encoder.layer.0.attention.attention.value.bias False\n",
      "vit.encoder.layer.0.attention.output.dense.weight False\n",
      "vit.encoder.layer.0.attention.output.dense.bias False\n",
      "vit.encoder.layer.0.intermediate.dense.weight False\n",
      "vit.encoder.layer.0.intermediate.dense.bias False\n",
      "vit.encoder.layer.0.output.dense.weight False\n",
      "vit.encoder.layer.0.output.dense.bias False\n",
      "vit.encoder.layer.0.layernorm_before.weight False\n",
      "vit.encoder.layer.0.layernorm_before.bias False\n",
      "vit.encoder.layer.0.layernorm_after.weight False\n",
      "vit.encoder.layer.0.layernorm_after.bias False\n",
      "vit.encoder.layer.1.attention.attention.query.weight False\n",
      "vit.encoder.layer.1.attention.attention.query.bias False\n",
      "vit.encoder.layer.1.attention.attention.key.weight False\n",
      "vit.encoder.layer.1.attention.attention.key.bias False\n",
      "vit.encoder.layer.1.attention.attention.value.weight False\n",
      "vit.encoder.layer.1.attention.attention.value.bias False\n",
      "vit.encoder.layer.1.attention.output.dense.weight False\n",
      "vit.encoder.layer.1.attention.output.dense.bias False\n",
      "vit.encoder.layer.1.intermediate.dense.weight False\n",
      "vit.encoder.layer.1.intermediate.dense.bias False\n",
      "vit.encoder.layer.1.output.dense.weight False\n",
      "vit.encoder.layer.1.output.dense.bias False\n",
      "vit.encoder.layer.1.layernorm_before.weight False\n",
      "vit.encoder.layer.1.layernorm_before.bias False\n",
      "vit.encoder.layer.1.layernorm_after.weight False\n",
      "vit.encoder.layer.1.layernorm_after.bias False\n",
      "vit.encoder.layer.2.attention.attention.query.weight False\n",
      "vit.encoder.layer.2.attention.attention.query.bias False\n",
      "vit.encoder.layer.2.attention.attention.key.weight False\n",
      "vit.encoder.layer.2.attention.attention.key.bias False\n",
      "vit.encoder.layer.2.attention.attention.value.weight False\n",
      "vit.encoder.layer.2.attention.attention.value.bias False\n",
      "vit.encoder.layer.2.attention.output.dense.weight False\n",
      "vit.encoder.layer.2.attention.output.dense.bias False\n",
      "vit.encoder.layer.2.intermediate.dense.weight False\n",
      "vit.encoder.layer.2.intermediate.dense.bias False\n",
      "vit.encoder.layer.2.output.dense.weight False\n",
      "vit.encoder.layer.2.output.dense.bias False\n",
      "vit.encoder.layer.2.layernorm_before.weight False\n",
      "vit.encoder.layer.2.layernorm_before.bias False\n",
      "vit.encoder.layer.2.layernorm_after.weight False\n",
      "vit.encoder.layer.2.layernorm_after.bias False\n",
      "vit.encoder.layer.3.attention.attention.query.weight False\n",
      "vit.encoder.layer.3.attention.attention.query.bias False\n",
      "vit.encoder.layer.3.attention.attention.key.weight False\n",
      "vit.encoder.layer.3.attention.attention.key.bias False\n",
      "vit.encoder.layer.3.attention.attention.value.weight False\n",
      "vit.encoder.layer.3.attention.attention.value.bias False\n",
      "vit.encoder.layer.3.attention.output.dense.weight False\n",
      "vit.encoder.layer.3.attention.output.dense.bias False\n",
      "vit.encoder.layer.3.intermediate.dense.weight False\n",
      "vit.encoder.layer.3.intermediate.dense.bias False\n",
      "vit.encoder.layer.3.output.dense.weight False\n",
      "vit.encoder.layer.3.output.dense.bias False\n",
      "vit.encoder.layer.3.layernorm_before.weight False\n",
      "vit.encoder.layer.3.layernorm_before.bias False\n",
      "vit.encoder.layer.3.layernorm_after.weight False\n",
      "vit.encoder.layer.3.layernorm_after.bias False\n",
      "vit.encoder.layer.4.attention.attention.query.weight False\n",
      "vit.encoder.layer.4.attention.attention.query.bias False\n",
      "vit.encoder.layer.4.attention.attention.key.weight False\n",
      "vit.encoder.layer.4.attention.attention.key.bias False\n",
      "vit.encoder.layer.4.attention.attention.value.weight False\n",
      "vit.encoder.layer.4.attention.attention.value.bias False\n",
      "vit.encoder.layer.4.attention.output.dense.weight False\n",
      "vit.encoder.layer.4.attention.output.dense.bias False\n",
      "vit.encoder.layer.4.intermediate.dense.weight False\n",
      "vit.encoder.layer.4.intermediate.dense.bias False\n",
      "vit.encoder.layer.4.output.dense.weight False\n",
      "vit.encoder.layer.4.output.dense.bias False\n",
      "vit.encoder.layer.4.layernorm_before.weight False\n",
      "vit.encoder.layer.4.layernorm_before.bias False\n",
      "vit.encoder.layer.4.layernorm_after.weight False\n",
      "vit.encoder.layer.4.layernorm_after.bias False\n",
      "vit.encoder.layer.5.attention.attention.query.weight False\n",
      "vit.encoder.layer.5.attention.attention.query.bias False\n",
      "vit.encoder.layer.5.attention.attention.key.weight False\n",
      "vit.encoder.layer.5.attention.attention.key.bias False\n",
      "vit.encoder.layer.5.attention.attention.value.weight False\n",
      "vit.encoder.layer.5.attention.attention.value.bias False\n",
      "vit.encoder.layer.5.attention.output.dense.weight False\n",
      "vit.encoder.layer.5.attention.output.dense.bias False\n",
      "vit.encoder.layer.5.intermediate.dense.weight False\n",
      "vit.encoder.layer.5.intermediate.dense.bias False\n",
      "vit.encoder.layer.5.output.dense.weight False\n",
      "vit.encoder.layer.5.output.dense.bias False\n",
      "vit.encoder.layer.5.layernorm_before.weight False\n",
      "vit.encoder.layer.5.layernorm_before.bias False\n",
      "vit.encoder.layer.5.layernorm_after.weight False\n",
      "vit.encoder.layer.5.layernorm_after.bias False\n",
      "vit.encoder.layer.6.attention.attention.query.weight False\n",
      "vit.encoder.layer.6.attention.attention.query.bias False\n",
      "vit.encoder.layer.6.attention.attention.key.weight False\n",
      "vit.encoder.layer.6.attention.attention.key.bias False\n",
      "vit.encoder.layer.6.attention.attention.value.weight False\n",
      "vit.encoder.layer.6.attention.attention.value.bias False\n",
      "vit.encoder.layer.6.attention.output.dense.weight False\n",
      "vit.encoder.layer.6.attention.output.dense.bias False\n",
      "vit.encoder.layer.6.intermediate.dense.weight False\n",
      "vit.encoder.layer.6.intermediate.dense.bias False\n",
      "vit.encoder.layer.6.output.dense.weight False\n",
      "vit.encoder.layer.6.output.dense.bias False\n",
      "vit.encoder.layer.6.layernorm_before.weight False\n",
      "vit.encoder.layer.6.layernorm_before.bias False\n",
      "vit.encoder.layer.6.layernorm_after.weight False\n",
      "vit.encoder.layer.6.layernorm_after.bias False\n",
      "vit.encoder.layer.7.attention.attention.query.weight False\n",
      "vit.encoder.layer.7.attention.attention.query.bias False\n",
      "vit.encoder.layer.7.attention.attention.key.weight False\n",
      "vit.encoder.layer.7.attention.attention.key.bias False\n",
      "vit.encoder.layer.7.attention.attention.value.weight False\n",
      "vit.encoder.layer.7.attention.attention.value.bias False\n",
      "vit.encoder.layer.7.attention.output.dense.weight False\n",
      "vit.encoder.layer.7.attention.output.dense.bias False\n",
      "vit.encoder.layer.7.intermediate.dense.weight False\n",
      "vit.encoder.layer.7.intermediate.dense.bias False\n",
      "vit.encoder.layer.7.output.dense.weight False\n",
      "vit.encoder.layer.7.output.dense.bias False\n",
      "vit.encoder.layer.7.layernorm_before.weight False\n",
      "vit.encoder.layer.7.layernorm_before.bias False\n",
      "vit.encoder.layer.7.layernorm_after.weight False\n",
      "vit.encoder.layer.7.layernorm_after.bias False\n",
      "vit.encoder.layer.8.attention.attention.query.weight False\n",
      "vit.encoder.layer.8.attention.attention.query.bias False\n",
      "vit.encoder.layer.8.attention.attention.key.weight False\n",
      "vit.encoder.layer.8.attention.attention.key.bias False\n",
      "vit.encoder.layer.8.attention.attention.value.weight False\n",
      "vit.encoder.layer.8.attention.attention.value.bias False\n",
      "vit.encoder.layer.8.attention.output.dense.weight False\n",
      "vit.encoder.layer.8.attention.output.dense.bias False\n",
      "vit.encoder.layer.8.intermediate.dense.weight False\n",
      "vit.encoder.layer.8.intermediate.dense.bias False\n",
      "vit.encoder.layer.8.output.dense.weight False\n",
      "vit.encoder.layer.8.output.dense.bias False\n",
      "vit.encoder.layer.8.layernorm_before.weight False\n",
      "vit.encoder.layer.8.layernorm_before.bias False\n",
      "vit.encoder.layer.8.layernorm_after.weight False\n",
      "vit.encoder.layer.8.layernorm_after.bias False\n",
      "vit.encoder.layer.9.attention.attention.query.weight False\n",
      "vit.encoder.layer.9.attention.attention.query.bias False\n",
      "vit.encoder.layer.9.attention.attention.key.weight False\n",
      "vit.encoder.layer.9.attention.attention.key.bias False\n",
      "vit.encoder.layer.9.attention.attention.value.weight False\n",
      "vit.encoder.layer.9.attention.attention.value.bias False\n",
      "vit.encoder.layer.9.attention.output.dense.weight False\n",
      "vit.encoder.layer.9.attention.output.dense.bias False\n",
      "vit.encoder.layer.9.intermediate.dense.weight False\n",
      "vit.encoder.layer.9.intermediate.dense.bias False\n",
      "vit.encoder.layer.9.output.dense.weight False\n",
      "vit.encoder.layer.9.output.dense.bias False\n",
      "vit.encoder.layer.9.layernorm_before.weight False\n",
      "vit.encoder.layer.9.layernorm_before.bias False\n",
      "vit.encoder.layer.9.layernorm_after.weight False\n",
      "vit.encoder.layer.9.layernorm_after.bias False\n",
      "vit.encoder.layer.10.attention.attention.query.weight False\n",
      "vit.encoder.layer.10.attention.attention.query.bias False\n",
      "vit.encoder.layer.10.attention.attention.key.weight False\n",
      "vit.encoder.layer.10.attention.attention.key.bias False\n",
      "vit.encoder.layer.10.attention.attention.value.weight False\n",
      "vit.encoder.layer.10.attention.attention.value.bias False\n",
      "vit.encoder.layer.10.attention.output.dense.weight False\n",
      "vit.encoder.layer.10.attention.output.dense.bias False\n",
      "vit.encoder.layer.10.intermediate.dense.weight False\n",
      "vit.encoder.layer.10.intermediate.dense.bias False\n",
      "vit.encoder.layer.10.output.dense.weight False\n",
      "vit.encoder.layer.10.output.dense.bias False\n",
      "vit.encoder.layer.10.layernorm_before.weight False\n",
      "vit.encoder.layer.10.layernorm_before.bias False\n",
      "vit.encoder.layer.10.layernorm_after.weight False\n",
      "vit.encoder.layer.10.layernorm_after.bias False\n",
      "vit.encoder.layer.11.attention.attention.query.weight True\n",
      "vit.encoder.layer.11.attention.attention.query.bias True\n",
      "vit.encoder.layer.11.attention.attention.key.weight True\n",
      "vit.encoder.layer.11.attention.attention.key.bias True\n",
      "vit.encoder.layer.11.attention.attention.value.weight True\n",
      "vit.encoder.layer.11.attention.attention.value.bias True\n",
      "vit.encoder.layer.11.attention.output.dense.weight True\n",
      "vit.encoder.layer.11.attention.output.dense.bias True\n",
      "vit.encoder.layer.11.intermediate.dense.weight True\n",
      "vit.encoder.layer.11.intermediate.dense.bias True\n",
      "vit.encoder.layer.11.output.dense.weight True\n",
      "vit.encoder.layer.11.output.dense.bias True\n",
      "vit.encoder.layer.11.layernorm_before.weight True\n",
      "vit.encoder.layer.11.layernorm_before.bias True\n",
      "vit.encoder.layer.11.layernorm_after.weight True\n",
      "vit.encoder.layer.11.layernorm_after.bias True\n",
      "vit.layernorm.weight True\n",
      "vit.layernorm.bias True\n",
      "classifier.weight True\n",
      "classifier.bias True\n"
     ]
    }
   ],
   "source": [
    "for name, param in vit.named_parameters():\n",
    "     print(name, param.requires_grad)"
   ]
  },
  {
   "cell_type": "code",
   "execution_count": 13,
   "id": "8f75f7ae",
   "metadata": {
    "execution": {
     "iopub.execute_input": "2023-12-13T17:51:30.357124Z",
     "iopub.status.busy": "2023-12-13T17:51:30.356842Z",
     "iopub.status.idle": "2023-12-13T17:51:30.366220Z",
     "shell.execute_reply": "2023-12-13T17:51:30.365418Z"
    },
    "papermill": {
     "duration": 0.018444,
     "end_time": "2023-12-13T17:51:30.368162",
     "exception": false,
     "start_time": "2023-12-13T17:51:30.349718",
     "status": "completed"
    },
    "tags": []
   },
   "outputs": [
    {
     "data": {
      "text/plain": [
       "7094791"
      ]
     },
     "execution_count": 13,
     "metadata": {},
     "output_type": "execute_result"
    }
   ],
   "source": [
    "model_parameters = filter(lambda p: p.requires_grad, vit.parameters())\n",
    "params = sum([np.prod(p.size()) for p in model_parameters])\n",
    "params"
   ]
  },
  {
   "cell_type": "code",
   "execution_count": 14,
   "id": "74a43219",
   "metadata": {
    "execution": {
     "iopub.execute_input": "2023-12-13T17:51:30.382084Z",
     "iopub.status.busy": "2023-12-13T17:51:30.381827Z",
     "iopub.status.idle": "2023-12-13T17:51:30.387258Z",
     "shell.execute_reply": "2023-12-13T17:51:30.386312Z"
    },
    "papermill": {
     "duration": 0.014509,
     "end_time": "2023-12-13T17:51:30.389099",
     "exception": false,
     "start_time": "2023-12-13T17:51:30.374590",
     "status": "completed"
    },
    "tags": []
   },
   "outputs": [],
   "source": [
    "optimizer = optim.Adam(vit.parameters(), lr = 1e-3)\n",
    "num_epochs = 30\n",
    "num_training_steps = num_epochs * len(train_loader)"
   ]
  },
  {
   "cell_type": "code",
   "execution_count": 15,
   "id": "efa040b9",
   "metadata": {
    "execution": {
     "iopub.execute_input": "2023-12-13T17:51:30.403008Z",
     "iopub.status.busy": "2023-12-13T17:51:30.402510Z",
     "iopub.status.idle": "2023-12-13T17:51:30.409243Z",
     "shell.execute_reply": "2023-12-13T17:51:30.408411Z"
    },
    "papermill": {
     "duration": 0.01572,
     "end_time": "2023-12-13T17:51:30.411142",
     "exception": false,
     "start_time": "2023-12-13T17:51:30.395422",
     "status": "completed"
    },
    "tags": []
   },
   "outputs": [],
   "source": [
    "from tqdm import tqdm\n",
    "def vit_test_runner(model, dataloader):\n",
    "  model.eval()\n",
    "\n",
    "  correct = 0\n",
    "  total_loss = 0\n",
    "  total = 0\n",
    "  for batch in tqdm(dataloader):\n",
    "      batch = {k: v.to(device) for k, v in batch.items()}\n",
    "      with torch.no_grad():\n",
    "          outputs = model(**batch)\n",
    "\n",
    "      total_loss += outputs[0]\n",
    "      logits = outputs[1]\n",
    "      predictions = torch.argmax(logits, dim=-1)\n",
    "      total += batch['labels'].size(0)\n",
    "      correct += (predictions == batch['labels']).sum().item()\n",
    "  acc = 100 * correct / total\n",
    "  total_loss = total_loss / total\n",
    "\n",
    "  return acc, total_loss"
   ]
  },
  {
   "cell_type": "code",
   "execution_count": 16,
   "id": "9186ae14",
   "metadata": {
    "execution": {
     "iopub.execute_input": "2023-12-13T17:51:30.424968Z",
     "iopub.status.busy": "2023-12-13T17:51:30.424664Z",
     "iopub.status.idle": "2023-12-13T17:51:30.432520Z",
     "shell.execute_reply": "2023-12-13T17:51:30.431788Z"
    },
    "papermill": {
     "duration": 0.016837,
     "end_time": "2023-12-13T17:51:30.434330",
     "exception": false,
     "start_time": "2023-12-13T17:51:30.417493",
     "status": "completed"
    },
    "tags": []
   },
   "outputs": [],
   "source": [
    "def vit_train_runner(model):\n",
    "  model.train()\n",
    "\n",
    "  train_loss = 0\n",
    "  train_correct = 0\n",
    "  total = 0\n",
    "  for epoch in range(num_epochs):\n",
    "    for batch in tqdm(train_loader):\n",
    "      batch = {k: v.to(device) for k, v in batch.items()}\n",
    "      outputs = model(**batch)\n",
    "      loss = outputs[0]\n",
    "      loss.backward()\n",
    "\n",
    "      train_loss += loss\n",
    "      logits = outputs[1]\n",
    "      predictions = torch.argmax(logits, dim=-1)\n",
    "      total += batch['labels'].size(0)\n",
    "      train_correct += (predictions == batch['labels']).sum().item()\n",
    "\n",
    "      optimizer.step()\n",
    "      optimizer.zero_grad()\n",
    "      # torch.cuda.empty_cache()\n",
    "\n",
    "    train_loss = train_loss / total\n",
    "    train_acc = 100 * train_correct / total\n",
    "    print(\"Epoch {}\".format(epoch+1))\n",
    "    print(\"Train loss: {}.\\t Train accuracy: {:.2f}%\".format(train_loss, train_acc))\n",
    "\n",
    "    valid_acc, valid_loss = vit_test_runner(model, valid_loader)\n",
    "    print(\"Valid loss: {}.\\t Valid accuracy: {:.2f}%\".format(valid_loss, valid_acc))"
   ]
  },
  {
   "cell_type": "code",
   "execution_count": 17,
   "id": "b44d90c6",
   "metadata": {
    "execution": {
     "iopub.execute_input": "2023-12-13T17:51:30.448322Z",
     "iopub.status.busy": "2023-12-13T17:51:30.448058Z",
     "iopub.status.idle": "2023-12-13T21:47:08.233237Z",
     "shell.execute_reply": "2023-12-13T21:47:08.232240Z"
    },
    "papermill": {
     "duration": 14137.794579,
     "end_time": "2023-12-13T21:47:08.235468",
     "exception": false,
     "start_time": "2023-12-13T17:51:30.440889",
     "status": "completed"
    },
    "tags": []
   },
   "outputs": [
    {
     "name": "stderr",
     "output_type": "stream",
     "text": [
      "100%|██████████| 3589/3589 [07:17<00:00,  8.20it/s]\n"
     ]
    },
    {
     "name": "stdout",
     "output_type": "stream",
     "text": [
      "Epoch 1\n",
      "Train loss: 0.06989163905382156.\t Train accuracy: 57.65%\n"
     ]
    },
    {
     "name": "stderr",
     "output_type": "stream",
     "text": [
      "100%|██████████| 359/359 [00:37<00:00,  9.54it/s]\n"
     ]
    },
    {
     "name": "stdout",
     "output_type": "stream",
     "text": [
      "Valid loss: 0.062485065311193466.\t Valid accuracy: 62.17%\n"
     ]
    },
    {
     "name": "stderr",
     "output_type": "stream",
     "text": [
      "100%|██████████| 3589/3589 [07:12<00:00,  8.30it/s]\n"
     ]
    },
    {
     "name": "stdout",
     "output_type": "stream",
     "text": [
      "Epoch 2\n",
      "Train loss: 0.03125345706939697.\t Train accuracy: 60.15%\n"
     ]
    },
    {
     "name": "stderr",
     "output_type": "stream",
     "text": [
      "100%|██████████| 359/359 [00:37<00:00,  9.52it/s]\n"
     ]
    },
    {
     "name": "stdout",
     "output_type": "stream",
     "text": [
      "Valid loss: 0.05860493704676628.\t Valid accuracy: 65.19%\n"
     ]
    },
    {
     "name": "stderr",
     "output_type": "stream",
     "text": [
      "100%|██████████| 3589/3589 [07:13<00:00,  8.28it/s]\n"
     ]
    },
    {
     "name": "stdout",
     "output_type": "stream",
     "text": [
      "Epoch 3\n",
      "Train loss: 0.019925028085708618.\t Train accuracy: 61.47%\n"
     ]
    },
    {
     "name": "stderr",
     "output_type": "stream",
     "text": [
      "100%|██████████| 359/359 [00:37<00:00,  9.51it/s]\n"
     ]
    },
    {
     "name": "stdout",
     "output_type": "stream",
     "text": [
      "Valid loss: 0.056054625660181046.\t Valid accuracy: 67.03%\n"
     ]
    },
    {
     "name": "stderr",
     "output_type": "stream",
     "text": [
      "100%|██████████| 3589/3589 [07:13<00:00,  8.28it/s]\n"
     ]
    },
    {
     "name": "stdout",
     "output_type": "stream",
     "text": [
      "Epoch 4\n",
      "Train loss: 0.014259294606745243.\t Train accuracy: 62.54%\n"
     ]
    },
    {
     "name": "stderr",
     "output_type": "stream",
     "text": [
      "100%|██████████| 359/359 [00:37<00:00,  9.52it/s]\n"
     ]
    },
    {
     "name": "stdout",
     "output_type": "stream",
     "text": [
      "Valid loss: 0.05208014324307442.\t Valid accuracy: 68.13%\n"
     ]
    },
    {
     "name": "stderr",
     "output_type": "stream",
     "text": [
      "100%|██████████| 3589/3589 [07:13<00:00,  8.29it/s]\n"
     ]
    },
    {
     "name": "stdout",
     "output_type": "stream",
     "text": [
      "Epoch 5\n",
      "Train loss: 0.010978199541568756.\t Train accuracy: 63.44%\n"
     ]
    },
    {
     "name": "stderr",
     "output_type": "stream",
     "text": [
      "100%|██████████| 359/359 [00:37<00:00,  9.50it/s]\n"
     ]
    },
    {
     "name": "stdout",
     "output_type": "stream",
     "text": [
      "Valid loss: 0.052785128355026245.\t Valid accuracy: 66.96%\n"
     ]
    },
    {
     "name": "stderr",
     "output_type": "stream",
     "text": [
      "100%|██████████| 3589/3589 [07:12<00:00,  8.30it/s]\n"
     ]
    },
    {
     "name": "stdout",
     "output_type": "stream",
     "text": [
      "Epoch 6\n",
      "Train loss: 0.008921094238758087.\t Train accuracy: 64.17%\n"
     ]
    },
    {
     "name": "stderr",
     "output_type": "stream",
     "text": [
      "100%|██████████| 359/359 [00:37<00:00,  9.54it/s]\n"
     ]
    },
    {
     "name": "stdout",
     "output_type": "stream",
     "text": [
      "Valid loss: 0.049988146871328354.\t Valid accuracy: 70.20%\n"
     ]
    },
    {
     "name": "stderr",
     "output_type": "stream",
     "text": [
      "100%|██████████| 3589/3589 [07:12<00:00,  8.30it/s]\n"
     ]
    },
    {
     "name": "stdout",
     "output_type": "stream",
     "text": [
      "Epoch 7\n",
      "Train loss: 0.007426263298839331.\t Train accuracy: 64.82%\n"
     ]
    },
    {
     "name": "stderr",
     "output_type": "stream",
     "text": [
      "100%|██████████| 359/359 [00:37<00:00,  9.52it/s]\n"
     ]
    },
    {
     "name": "stdout",
     "output_type": "stream",
     "text": [
      "Valid loss: 0.04804345220327377.\t Valid accuracy: 71.65%\n"
     ]
    },
    {
     "name": "stderr",
     "output_type": "stream",
     "text": [
      "100%|██████████| 3589/3589 [07:12<00:00,  8.29it/s]\n"
     ]
    },
    {
     "name": "stdout",
     "output_type": "stream",
     "text": [
      "Epoch 8\n",
      "Train loss: 0.00628794077783823.\t Train accuracy: 65.44%\n"
     ]
    },
    {
     "name": "stderr",
     "output_type": "stream",
     "text": [
      "100%|██████████| 359/359 [00:37<00:00,  9.52it/s]\n"
     ]
    },
    {
     "name": "stdout",
     "output_type": "stream",
     "text": [
      "Valid loss: 0.04845641925930977.\t Valid accuracy: 70.83%\n"
     ]
    },
    {
     "name": "stderr",
     "output_type": "stream",
     "text": [
      "100%|██████████| 3589/3589 [07:12<00:00,  8.29it/s]\n"
     ]
    },
    {
     "name": "stdout",
     "output_type": "stream",
     "text": [
      "Epoch 9\n",
      "Train loss: 0.0054837968200445175.\t Train accuracy: 66.00%\n"
     ]
    },
    {
     "name": "stderr",
     "output_type": "stream",
     "text": [
      "100%|██████████| 359/359 [00:37<00:00,  9.53it/s]\n"
     ]
    },
    {
     "name": "stdout",
     "output_type": "stream",
     "text": [
      "Valid loss: 0.04468591883778572.\t Valid accuracy: 73.81%\n"
     ]
    },
    {
     "name": "stderr",
     "output_type": "stream",
     "text": [
      "100%|██████████| 3589/3589 [07:12<00:00,  8.29it/s]\n"
     ]
    },
    {
     "name": "stdout",
     "output_type": "stream",
     "text": [
      "Epoch 10\n",
      "Train loss: 0.0047775451093912125.\t Train accuracy: 66.53%\n"
     ]
    },
    {
     "name": "stderr",
     "output_type": "stream",
     "text": [
      "100%|██████████| 359/359 [00:37<00:00,  9.52it/s]\n"
     ]
    },
    {
     "name": "stdout",
     "output_type": "stream",
     "text": [
      "Valid loss: 0.04341894015669823.\t Valid accuracy: 73.82%\n"
     ]
    },
    {
     "name": "stderr",
     "output_type": "stream",
     "text": [
      "100%|██████████| 3589/3589 [07:12<00:00,  8.30it/s]\n"
     ]
    },
    {
     "name": "stdout",
     "output_type": "stream",
     "text": [
      "Epoch 11\n",
      "Train loss: 0.004191854037344456.\t Train accuracy: 67.05%\n"
     ]
    },
    {
     "name": "stderr",
     "output_type": "stream",
     "text": [
      "100%|██████████| 359/359 [00:37<00:00,  9.52it/s]\n"
     ]
    },
    {
     "name": "stdout",
     "output_type": "stream",
     "text": [
      "Valid loss: 0.043107807636260986.\t Valid accuracy: 74.66%\n"
     ]
    },
    {
     "name": "stderr",
     "output_type": "stream",
     "text": [
      "100%|██████████| 3589/3589 [07:12<00:00,  8.29it/s]\n"
     ]
    },
    {
     "name": "stdout",
     "output_type": "stream",
     "text": [
      "Epoch 12\n",
      "Train loss: 0.003760009305551648.\t Train accuracy: 67.52%\n"
     ]
    },
    {
     "name": "stderr",
     "output_type": "stream",
     "text": [
      "100%|██████████| 359/359 [00:37<00:00,  9.49it/s]\n"
     ]
    },
    {
     "name": "stdout",
     "output_type": "stream",
     "text": [
      "Valid loss: 0.04273446276783943.\t Valid accuracy: 74.07%\n"
     ]
    },
    {
     "name": "stderr",
     "output_type": "stream",
     "text": [
      "100%|██████████| 3589/3589 [07:12<00:00,  8.30it/s]\n"
     ]
    },
    {
     "name": "stdout",
     "output_type": "stream",
     "text": [
      "Epoch 13\n",
      "Train loss: 0.0033946381881833076.\t Train accuracy: 67.99%\n"
     ]
    },
    {
     "name": "stderr",
     "output_type": "stream",
     "text": [
      "100%|██████████| 359/359 [00:37<00:00,  9.51it/s]\n"
     ]
    },
    {
     "name": "stdout",
     "output_type": "stream",
     "text": [
      "Valid loss: 0.04079597070813179.\t Valid accuracy: 75.64%\n"
     ]
    },
    {
     "name": "stderr",
     "output_type": "stream",
     "text": [
      "100%|██████████| 3589/3589 [07:12<00:00,  8.29it/s]\n"
     ]
    },
    {
     "name": "stdout",
     "output_type": "stream",
     "text": [
      "Epoch 14\n",
      "Train loss: 0.003081199247390032.\t Train accuracy: 68.43%\n"
     ]
    },
    {
     "name": "stderr",
     "output_type": "stream",
     "text": [
      "100%|██████████| 359/359 [00:37<00:00,  9.51it/s]\n"
     ]
    },
    {
     "name": "stdout",
     "output_type": "stream",
     "text": [
      "Valid loss: 0.038773417472839355.\t Valid accuracy: 77.31%\n"
     ]
    },
    {
     "name": "stderr",
     "output_type": "stream",
     "text": [
      "100%|██████████| 3589/3589 [07:13<00:00,  8.28it/s]\n"
     ]
    },
    {
     "name": "stdout",
     "output_type": "stream",
     "text": [
      "Epoch 15\n",
      "Train loss: 0.0027985998895019293.\t Train accuracy: 68.87%\n"
     ]
    },
    {
     "name": "stderr",
     "output_type": "stream",
     "text": [
      "100%|██████████| 359/359 [00:37<00:00,  9.47it/s]\n"
     ]
    },
    {
     "name": "stdout",
     "output_type": "stream",
     "text": [
      "Valid loss: 0.03897710517048836.\t Valid accuracy: 76.44%\n"
     ]
    },
    {
     "name": "stderr",
     "output_type": "stream",
     "text": [
      "100%|██████████| 3589/3589 [07:13<00:00,  8.28it/s]\n"
     ]
    },
    {
     "name": "stdout",
     "output_type": "stream",
     "text": [
      "Epoch 16\n",
      "Train loss: 0.002562866313382983.\t Train accuracy: 69.28%\n"
     ]
    },
    {
     "name": "stderr",
     "output_type": "stream",
     "text": [
      "100%|██████████| 359/359 [00:37<00:00,  9.49it/s]\n"
     ]
    },
    {
     "name": "stdout",
     "output_type": "stream",
     "text": [
      "Valid loss: 0.03767926245927811.\t Valid accuracy: 77.85%\n"
     ]
    },
    {
     "name": "stderr",
     "output_type": "stream",
     "text": [
      "100%|██████████| 3589/3589 [07:13<00:00,  8.27it/s]\n"
     ]
    },
    {
     "name": "stdout",
     "output_type": "stream",
     "text": [
      "Epoch 17\n",
      "Train loss: 0.0023588459007441998.\t Train accuracy: 69.66%\n"
     ]
    },
    {
     "name": "stderr",
     "output_type": "stream",
     "text": [
      "100%|██████████| 359/359 [00:37<00:00,  9.46it/s]\n"
     ]
    },
    {
     "name": "stdout",
     "output_type": "stream",
     "text": [
      "Valid loss: 0.03550563380122185.\t Valid accuracy: 78.47%\n"
     ]
    },
    {
     "name": "stderr",
     "output_type": "stream",
     "text": [
      "100%|██████████| 3589/3589 [07:13<00:00,  8.28it/s]\n"
     ]
    },
    {
     "name": "stdout",
     "output_type": "stream",
     "text": [
      "Epoch 18\n",
      "Train loss: 0.002169517334550619.\t Train accuracy: 70.05%\n"
     ]
    },
    {
     "name": "stderr",
     "output_type": "stream",
     "text": [
      "100%|██████████| 359/359 [00:37<00:00,  9.50it/s]\n"
     ]
    },
    {
     "name": "stdout",
     "output_type": "stream",
     "text": [
      "Valid loss: 0.03544686734676361.\t Valid accuracy: 78.98%\n"
     ]
    },
    {
     "name": "stderr",
     "output_type": "stream",
     "text": [
      "100%|██████████| 3589/3589 [07:13<00:00,  8.29it/s]\n"
     ]
    },
    {
     "name": "stdout",
     "output_type": "stream",
     "text": [
      "Epoch 19\n",
      "Train loss: 0.002012192504480481.\t Train accuracy: 70.43%\n"
     ]
    },
    {
     "name": "stderr",
     "output_type": "stream",
     "text": [
      "100%|██████████| 359/359 [00:37<00:00,  9.48it/s]\n"
     ]
    },
    {
     "name": "stdout",
     "output_type": "stream",
     "text": [
      "Valid loss: 0.0349857360124588.\t Valid accuracy: 79.26%\n"
     ]
    },
    {
     "name": "stderr",
     "output_type": "stream",
     "text": [
      "100%|██████████| 3589/3589 [07:12<00:00,  8.29it/s]\n"
     ]
    },
    {
     "name": "stdout",
     "output_type": "stream",
     "text": [
      "Epoch 20\n",
      "Train loss: 0.0018751014722511172.\t Train accuracy: 70.78%\n"
     ]
    },
    {
     "name": "stderr",
     "output_type": "stream",
     "text": [
      "100%|██████████| 359/359 [00:37<00:00,  9.50it/s]\n"
     ]
    },
    {
     "name": "stdout",
     "output_type": "stream",
     "text": [
      "Valid loss: 0.03471268340945244.\t Valid accuracy: 79.15%\n"
     ]
    },
    {
     "name": "stderr",
     "output_type": "stream",
     "text": [
      "100%|██████████| 3589/3589 [07:12<00:00,  8.29it/s]\n"
     ]
    },
    {
     "name": "stdout",
     "output_type": "stream",
     "text": [
      "Epoch 21\n",
      "Train loss: 0.001760327722877264.\t Train accuracy: 71.12%\n"
     ]
    },
    {
     "name": "stderr",
     "output_type": "stream",
     "text": [
      "100%|██████████| 359/359 [00:37<00:00,  9.48it/s]\n"
     ]
    },
    {
     "name": "stdout",
     "output_type": "stream",
     "text": [
      "Valid loss: 0.03480345383286476.\t Valid accuracy: 79.36%\n"
     ]
    },
    {
     "name": "stderr",
     "output_type": "stream",
     "text": [
      "100%|██████████| 3589/3589 [07:13<00:00,  8.29it/s]\n"
     ]
    },
    {
     "name": "stdout",
     "output_type": "stream",
     "text": [
      "Epoch 22\n",
      "Train loss: 0.0016469225520268083.\t Train accuracy: 71.44%\n"
     ]
    },
    {
     "name": "stderr",
     "output_type": "stream",
     "text": [
      "100%|██████████| 359/359 [00:37<00:00,  9.48it/s]\n"
     ]
    },
    {
     "name": "stdout",
     "output_type": "stream",
     "text": [
      "Valid loss: 0.03360901400446892.\t Valid accuracy: 79.29%\n"
     ]
    },
    {
     "name": "stderr",
     "output_type": "stream",
     "text": [
      "100%|██████████| 3589/3589 [07:13<00:00,  8.28it/s]\n"
     ]
    },
    {
     "name": "stdout",
     "output_type": "stream",
     "text": [
      "Epoch 23\n",
      "Train loss: 0.001549309235997498.\t Train accuracy: 71.76%\n"
     ]
    },
    {
     "name": "stderr",
     "output_type": "stream",
     "text": [
      "100%|██████████| 359/359 [00:37<00:00,  9.48it/s]\n"
     ]
    },
    {
     "name": "stdout",
     "output_type": "stream",
     "text": [
      "Valid loss: 0.03314951807260513.\t Valid accuracy: 80.37%\n"
     ]
    },
    {
     "name": "stderr",
     "output_type": "stream",
     "text": [
      "100%|██████████| 3589/3589 [07:13<00:00,  8.28it/s]\n"
     ]
    },
    {
     "name": "stdout",
     "output_type": "stream",
     "text": [
      "Epoch 24\n",
      "Train loss: 0.0014536939561367035.\t Train accuracy: 72.06%\n"
     ]
    },
    {
     "name": "stderr",
     "output_type": "stream",
     "text": [
      "100%|██████████| 359/359 [00:37<00:00,  9.49it/s]\n"
     ]
    },
    {
     "name": "stdout",
     "output_type": "stream",
     "text": [
      "Valid loss: 0.03366401419043541.\t Valid accuracy: 80.08%\n"
     ]
    },
    {
     "name": "stderr",
     "output_type": "stream",
     "text": [
      "100%|██████████| 3589/3589 [07:13<00:00,  8.28it/s]\n"
     ]
    },
    {
     "name": "stdout",
     "output_type": "stream",
     "text": [
      "Epoch 25\n",
      "Train loss: 0.0013570917071774602.\t Train accuracy: 72.36%\n"
     ]
    },
    {
     "name": "stderr",
     "output_type": "stream",
     "text": [
      "100%|██████████| 359/359 [00:37<00:00,  9.47it/s]\n"
     ]
    },
    {
     "name": "stdout",
     "output_type": "stream",
     "text": [
      "Valid loss: 0.030806545168161392.\t Valid accuracy: 81.77%\n"
     ]
    },
    {
     "name": "stderr",
     "output_type": "stream",
     "text": [
      "100%|██████████| 3589/3589 [07:13<00:00,  8.29it/s]\n"
     ]
    },
    {
     "name": "stdout",
     "output_type": "stream",
     "text": [
      "Epoch 26\n",
      "Train loss: 0.0012955020647495985.\t Train accuracy: 72.65%\n"
     ]
    },
    {
     "name": "stderr",
     "output_type": "stream",
     "text": [
      "100%|██████████| 359/359 [00:37<00:00,  9.47it/s]\n"
     ]
    },
    {
     "name": "stdout",
     "output_type": "stream",
     "text": [
      "Valid loss: 0.03144384175539017.\t Valid accuracy: 81.82%\n"
     ]
    },
    {
     "name": "stderr",
     "output_type": "stream",
     "text": [
      "100%|██████████| 3589/3589 [07:13<00:00,  8.28it/s]\n"
     ]
    },
    {
     "name": "stdout",
     "output_type": "stream",
     "text": [
      "Epoch 27\n",
      "Train loss: 0.001230795169249177.\t Train accuracy: 72.93%\n"
     ]
    },
    {
     "name": "stderr",
     "output_type": "stream",
     "text": [
      "100%|██████████| 359/359 [00:37<00:00,  9.48it/s]\n"
     ]
    },
    {
     "name": "stdout",
     "output_type": "stream",
     "text": [
      "Valid loss: 0.029653439298272133.\t Valid accuracy: 82.60%\n"
     ]
    },
    {
     "name": "stderr",
     "output_type": "stream",
     "text": [
      "100%|██████████| 3589/3589 [07:13<00:00,  8.28it/s]\n"
     ]
    },
    {
     "name": "stdout",
     "output_type": "stream",
     "text": [
      "Epoch 28\n",
      "Train loss: 0.0011564666638150811.\t Train accuracy: 73.21%\n"
     ]
    },
    {
     "name": "stderr",
     "output_type": "stream",
     "text": [
      "100%|██████████| 359/359 [00:37<00:00,  9.47it/s]\n"
     ]
    },
    {
     "name": "stdout",
     "output_type": "stream",
     "text": [
      "Valid loss: 0.03092867136001587.\t Valid accuracy: 81.63%\n"
     ]
    },
    {
     "name": "stderr",
     "output_type": "stream",
     "text": [
      "100%|██████████| 3589/3589 [07:13<00:00,  8.29it/s]\n"
     ]
    },
    {
     "name": "stdout",
     "output_type": "stream",
     "text": [
      "Epoch 29\n",
      "Train loss: 0.00109088362660259.\t Train accuracy: 73.48%\n"
     ]
    },
    {
     "name": "stderr",
     "output_type": "stream",
     "text": [
      "100%|██████████| 359/359 [00:37<00:00,  9.46it/s]\n"
     ]
    },
    {
     "name": "stdout",
     "output_type": "stream",
     "text": [
      "Valid loss: 0.02922353334724903.\t Valid accuracy: 83.04%\n"
     ]
    },
    {
     "name": "stderr",
     "output_type": "stream",
     "text": [
      "100%|██████████| 3589/3589 [07:13<00:00,  8.28it/s]\n"
     ]
    },
    {
     "name": "stdout",
     "output_type": "stream",
     "text": [
      "Epoch 30\n",
      "Train loss: 0.0010456532472744584.\t Train accuracy: 73.75%\n"
     ]
    },
    {
     "name": "stderr",
     "output_type": "stream",
     "text": [
      "100%|██████████| 359/359 [00:37<00:00,  9.47it/s]\n"
     ]
    },
    {
     "name": "stdout",
     "output_type": "stream",
     "text": [
      "Valid loss: 0.02834797278046608.\t Valid accuracy: 82.97%\n"
     ]
    }
   ],
   "source": [
    "vit_train_runner(vit)"
   ]
  },
  {
   "cell_type": "code",
   "execution_count": 18,
   "id": "9b3ec4e2",
   "metadata": {
    "execution": {
     "iopub.execute_input": "2023-12-13T21:47:27.607949Z",
     "iopub.status.busy": "2023-12-13T21:47:27.607122Z",
     "iopub.status.idle": "2023-12-13T21:48:15.088894Z",
     "shell.execute_reply": "2023-12-13T21:48:15.087757Z"
    },
    "papermill": {
     "duration": 56.93454,
     "end_time": "2023-12-13T21:48:15.090867",
     "exception": false,
     "start_time": "2023-12-13T21:47:18.156327",
     "status": "completed"
    },
    "tags": []
   },
   "outputs": [
    {
     "name": "stderr",
     "output_type": "stream",
     "text": [
      "100%|██████████| 449/449 [00:47<00:00,  9.46it/s]\n"
     ]
    },
    {
     "data": {
      "text/plain": [
       "(67.13569239342435, tensor(0.0892, device='cuda:0'))"
      ]
     },
     "execution_count": 18,
     "metadata": {},
     "output_type": "execute_result"
    }
   ],
   "source": [
    "vit_test_runner(vit, test_loader)"
   ]
  },
  {
   "cell_type": "code",
   "execution_count": 19,
   "id": "768cced0",
   "metadata": {
    "execution": {
     "iopub.execute_input": "2023-12-13T21:48:34.478530Z",
     "iopub.status.busy": "2023-12-13T21:48:34.478169Z",
     "iopub.status.idle": "2023-12-13T21:48:34.940899Z",
     "shell.execute_reply": "2023-12-13T21:48:34.940078Z"
    },
    "papermill": {
     "duration": 10.000657,
     "end_time": "2023-12-13T21:48:34.943357",
     "exception": false,
     "start_time": "2023-12-13T21:48:24.942700",
     "status": "completed"
    },
    "tags": []
   },
   "outputs": [],
   "source": [
    "torch.save(vit, '/kaggle/working/vit-ckpt.pt')"
   ]
  }
 ],
 "metadata": {
  "kaggle": {
   "accelerator": "gpu",
   "dataSources": [
    {
     "datasetId": 786787,
     "sourceId": 1351797,
     "sourceType": "datasetVersion"
    }
   ],
   "dockerImageVersionId": 30627,
   "isGpuEnabled": true,
   "isInternetEnabled": true,
   "language": "python",
   "sourceType": "notebook"
  },
  "kernelspec": {
   "display_name": "Python 3",
   "language": "python",
   "name": "python3"
  },
  "language_info": {
   "codemirror_mode": {
    "name": "ipython",
    "version": 3
   },
   "file_extension": ".py",
   "mimetype": "text/x-python",
   "name": "python",
   "nbconvert_exporter": "python",
   "pygments_lexer": "ipython3",
   "version": "3.10.12"
  },
  "papermill": {
   "default_parameters": {},
   "duration": 14275.705259,
   "end_time": "2023-12-13T21:48:47.840671",
   "environment_variables": {},
   "exception": null,
   "input_path": "__notebook__.ipynb",
   "output_path": "__notebook__.ipynb",
   "parameters": {},
   "start_time": "2023-12-13T17:50:52.135412",
   "version": "2.4.0"
  },
  "widgets": {
   "application/vnd.jupyter.widget-state+json": {
    "state": {
     "07c1b06238a54abaaf5f2b2b00d97ab9": {
      "model_module": "@jupyter-widgets/controls",
      "model_module_version": "1.5.0",
      "model_name": "HTMLModel",
      "state": {
       "_dom_classes": [],
       "_model_module": "@jupyter-widgets/controls",
       "_model_module_version": "1.5.0",
       "_model_name": "HTMLModel",
       "_view_count": null,
       "_view_module": "@jupyter-widgets/controls",
       "_view_module_version": "1.5.0",
       "_view_name": "HTMLView",
       "description": "",
       "description_tooltip": null,
       "layout": "IPY_MODEL_57f520f58471488a9e3ab9348a767f6f",
       "placeholder": "​",
       "style": "IPY_MODEL_da5178c09f9f469487e26e475f2d5a8b",
       "value": "model.safetensors: 100%"
      }
     },
     "0b9255ab222a4415b7a4b72d36857f2f": {
      "model_module": "@jupyter-widgets/controls",
      "model_module_version": "1.5.0",
      "model_name": "DescriptionStyleModel",
      "state": {
       "_model_module": "@jupyter-widgets/controls",
       "_model_module_version": "1.5.0",
       "_model_name": "DescriptionStyleModel",
       "_view_count": null,
       "_view_module": "@jupyter-widgets/base",
       "_view_module_version": "1.2.0",
       "_view_name": "StyleView",
       "description_width": ""
      }
     },
     "148b45f4db384ad48d44e5229f69a9d1": {
      "model_module": "@jupyter-widgets/base",
      "model_module_version": "1.2.0",
      "model_name": "LayoutModel",
      "state": {
       "_model_module": "@jupyter-widgets/base",
       "_model_module_version": "1.2.0",
       "_model_name": "LayoutModel",
       "_view_count": null,
       "_view_module": "@jupyter-widgets/base",
       "_view_module_version": "1.2.0",
       "_view_name": "LayoutView",
       "align_content": null,
       "align_items": null,
       "align_self": null,
       "border": null,
       "bottom": null,
       "display": null,
       "flex": null,
       "flex_flow": null,
       "grid_area": null,
       "grid_auto_columns": null,
       "grid_auto_flow": null,
       "grid_auto_rows": null,
       "grid_column": null,
       "grid_gap": null,
       "grid_row": null,
       "grid_template_areas": null,
       "grid_template_columns": null,
       "grid_template_rows": null,
       "height": null,
       "justify_content": null,
       "justify_items": null,
       "left": null,
       "margin": null,
       "max_height": null,
       "max_width": null,
       "min_height": null,
       "min_width": null,
       "object_fit": null,
       "object_position": null,
       "order": null,
       "overflow": null,
       "overflow_x": null,
       "overflow_y": null,
       "padding": null,
       "right": null,
       "top": null,
       "visibility": null,
       "width": null
      }
     },
     "31b12b3397874bdc9ab08f90c7d980a6": {
      "model_module": "@jupyter-widgets/controls",
      "model_module_version": "1.5.0",
      "model_name": "HTMLModel",
      "state": {
       "_dom_classes": [],
       "_model_module": "@jupyter-widgets/controls",
       "_model_module_version": "1.5.0",
       "_model_name": "HTMLModel",
       "_view_count": null,
       "_view_module": "@jupyter-widgets/controls",
       "_view_module_version": "1.5.0",
       "_view_name": "HTMLView",
       "description": "",
       "description_tooltip": null,
       "layout": "IPY_MODEL_b7edddc332cc414d962e2d4c2697c79e",
       "placeholder": "​",
       "style": "IPY_MODEL_963eb597b8fd4e39b332b3d8c0ae3da3",
       "value": " 346M/346M [00:01&lt;00:00, 272MB/s]"
      }
     },
     "4de10792efac47659eedb39f9e400048": {
      "model_module": "@jupyter-widgets/controls",
      "model_module_version": "1.5.0",
      "model_name": "HBoxModel",
      "state": {
       "_dom_classes": [],
       "_model_module": "@jupyter-widgets/controls",
       "_model_module_version": "1.5.0",
       "_model_name": "HBoxModel",
       "_view_count": null,
       "_view_module": "@jupyter-widgets/controls",
       "_view_module_version": "1.5.0",
       "_view_name": "HBoxView",
       "box_style": "",
       "children": [
        "IPY_MODEL_07c1b06238a54abaaf5f2b2b00d97ab9",
        "IPY_MODEL_b45b1431d52141f18dd0132de6725ee7",
        "IPY_MODEL_31b12b3397874bdc9ab08f90c7d980a6"
       ],
       "layout": "IPY_MODEL_148b45f4db384ad48d44e5229f69a9d1"
      }
     },
     "56ea0101f62b4c7a871ece6177a252ab": {
      "model_module": "@jupyter-widgets/base",
      "model_module_version": "1.2.0",
      "model_name": "LayoutModel",
      "state": {
       "_model_module": "@jupyter-widgets/base",
       "_model_module_version": "1.2.0",
       "_model_name": "LayoutModel",
       "_view_count": null,
       "_view_module": "@jupyter-widgets/base",
       "_view_module_version": "1.2.0",
       "_view_name": "LayoutView",
       "align_content": null,
       "align_items": null,
       "align_self": null,
       "border": null,
       "bottom": null,
       "display": null,
       "flex": null,
       "flex_flow": null,
       "grid_area": null,
       "grid_auto_columns": null,
       "grid_auto_flow": null,
       "grid_auto_rows": null,
       "grid_column": null,
       "grid_gap": null,
       "grid_row": null,
       "grid_template_areas": null,
       "grid_template_columns": null,
       "grid_template_rows": null,
       "height": null,
       "justify_content": null,
       "justify_items": null,
       "left": null,
       "margin": null,
       "max_height": null,
       "max_width": null,
       "min_height": null,
       "min_width": null,
       "object_fit": null,
       "object_position": null,
       "order": null,
       "overflow": null,
       "overflow_x": null,
       "overflow_y": null,
       "padding": null,
       "right": null,
       "top": null,
       "visibility": null,
       "width": null
      }
     },
     "57f520f58471488a9e3ab9348a767f6f": {
      "model_module": "@jupyter-widgets/base",
      "model_module_version": "1.2.0",
      "model_name": "LayoutModel",
      "state": {
       "_model_module": "@jupyter-widgets/base",
       "_model_module_version": "1.2.0",
       "_model_name": "LayoutModel",
       "_view_count": null,
       "_view_module": "@jupyter-widgets/base",
       "_view_module_version": "1.2.0",
       "_view_name": "LayoutView",
       "align_content": null,
       "align_items": null,
       "align_self": null,
       "border": null,
       "bottom": null,
       "display": null,
       "flex": null,
       "flex_flow": null,
       "grid_area": null,
       "grid_auto_columns": null,
       "grid_auto_flow": null,
       "grid_auto_rows": null,
       "grid_column": null,
       "grid_gap": null,
       "grid_row": null,
       "grid_template_areas": null,
       "grid_template_columns": null,
       "grid_template_rows": null,
       "height": null,
       "justify_content": null,
       "justify_items": null,
       "left": null,
       "margin": null,
       "max_height": null,
       "max_width": null,
       "min_height": null,
       "min_width": null,
       "object_fit": null,
       "object_position": null,
       "order": null,
       "overflow": null,
       "overflow_x": null,
       "overflow_y": null,
       "padding": null,
       "right": null,
       "top": null,
       "visibility": null,
       "width": null
      }
     },
     "6270a912fad94cfea889d6fb9c18c998": {
      "model_module": "@jupyter-widgets/base",
      "model_module_version": "1.2.0",
      "model_name": "LayoutModel",
      "state": {
       "_model_module": "@jupyter-widgets/base",
       "_model_module_version": "1.2.0",
       "_model_name": "LayoutModel",
       "_view_count": null,
       "_view_module": "@jupyter-widgets/base",
       "_view_module_version": "1.2.0",
       "_view_name": "LayoutView",
       "align_content": null,
       "align_items": null,
       "align_self": null,
       "border": null,
       "bottom": null,
       "display": null,
       "flex": null,
       "flex_flow": null,
       "grid_area": null,
       "grid_auto_columns": null,
       "grid_auto_flow": null,
       "grid_auto_rows": null,
       "grid_column": null,
       "grid_gap": null,
       "grid_row": null,
       "grid_template_areas": null,
       "grid_template_columns": null,
       "grid_template_rows": null,
       "height": null,
       "justify_content": null,
       "justify_items": null,
       "left": null,
       "margin": null,
       "max_height": null,
       "max_width": null,
       "min_height": null,
       "min_width": null,
       "object_fit": null,
       "object_position": null,
       "order": null,
       "overflow": null,
       "overflow_x": null,
       "overflow_y": null,
       "padding": null,
       "right": null,
       "top": null,
       "visibility": null,
       "width": null
      }
     },
     "65dd92b13e4748ac8e03555e9effc660": {
      "model_module": "@jupyter-widgets/controls",
      "model_module_version": "1.5.0",
      "model_name": "HBoxModel",
      "state": {
       "_dom_classes": [],
       "_model_module": "@jupyter-widgets/controls",
       "_model_module_version": "1.5.0",
       "_model_name": "HBoxModel",
       "_view_count": null,
       "_view_module": "@jupyter-widgets/controls",
       "_view_module_version": "1.5.0",
       "_view_name": "HBoxView",
       "box_style": "",
       "children": [
        "IPY_MODEL_c2fa7e0b613e4959892dcf6deb3f0176",
        "IPY_MODEL_69ae0bee71e84167bad7825778a49594",
        "IPY_MODEL_8b7e4f0114f243a081f40970457db585"
       ],
       "layout": "IPY_MODEL_6270a912fad94cfea889d6fb9c18c998"
      }
     },
     "69ae0bee71e84167bad7825778a49594": {
      "model_module": "@jupyter-widgets/controls",
      "model_module_version": "1.5.0",
      "model_name": "FloatProgressModel",
      "state": {
       "_dom_classes": [],
       "_model_module": "@jupyter-widgets/controls",
       "_model_module_version": "1.5.0",
       "_model_name": "FloatProgressModel",
       "_view_count": null,
       "_view_module": "@jupyter-widgets/controls",
       "_view_module_version": "1.5.0",
       "_view_name": "ProgressView",
       "bar_style": "success",
       "description": "",
       "description_tooltip": null,
       "layout": "IPY_MODEL_85cf6755f27f48fc9598741b2b45b0c1",
       "max": 69665.0,
       "min": 0.0,
       "orientation": "horizontal",
       "style": "IPY_MODEL_df05fe138b204e27bf816ad47feaceb2",
       "value": 69665.0
      }
     },
     "85cf6755f27f48fc9598741b2b45b0c1": {
      "model_module": "@jupyter-widgets/base",
      "model_module_version": "1.2.0",
      "model_name": "LayoutModel",
      "state": {
       "_model_module": "@jupyter-widgets/base",
       "_model_module_version": "1.2.0",
       "_model_name": "LayoutModel",
       "_view_count": null,
       "_view_module": "@jupyter-widgets/base",
       "_view_module_version": "1.2.0",
       "_view_name": "LayoutView",
       "align_content": null,
       "align_items": null,
       "align_self": null,
       "border": null,
       "bottom": null,
       "display": null,
       "flex": null,
       "flex_flow": null,
       "grid_area": null,
       "grid_auto_columns": null,
       "grid_auto_flow": null,
       "grid_auto_rows": null,
       "grid_column": null,
       "grid_gap": null,
       "grid_row": null,
       "grid_template_areas": null,
       "grid_template_columns": null,
       "grid_template_rows": null,
       "height": null,
       "justify_content": null,
       "justify_items": null,
       "left": null,
       "margin": null,
       "max_height": null,
       "max_width": null,
       "min_height": null,
       "min_width": null,
       "object_fit": null,
       "object_position": null,
       "order": null,
       "overflow": null,
       "overflow_x": null,
       "overflow_y": null,
       "padding": null,
       "right": null,
       "top": null,
       "visibility": null,
       "width": null
      }
     },
     "87d4d1e61b4746e3a3345a4b00e51bcb": {
      "model_module": "@jupyter-widgets/base",
      "model_module_version": "1.2.0",
      "model_name": "LayoutModel",
      "state": {
       "_model_module": "@jupyter-widgets/base",
       "_model_module_version": "1.2.0",
       "_model_name": "LayoutModel",
       "_view_count": null,
       "_view_module": "@jupyter-widgets/base",
       "_view_module_version": "1.2.0",
       "_view_name": "LayoutView",
       "align_content": null,
       "align_items": null,
       "align_self": null,
       "border": null,
       "bottom": null,
       "display": null,
       "flex": null,
       "flex_flow": null,
       "grid_area": null,
       "grid_auto_columns": null,
       "grid_auto_flow": null,
       "grid_auto_rows": null,
       "grid_column": null,
       "grid_gap": null,
       "grid_row": null,
       "grid_template_areas": null,
       "grid_template_columns": null,
       "grid_template_rows": null,
       "height": null,
       "justify_content": null,
       "justify_items": null,
       "left": null,
       "margin": null,
       "max_height": null,
       "max_width": null,
       "min_height": null,
       "min_width": null,
       "object_fit": null,
       "object_position": null,
       "order": null,
       "overflow": null,
       "overflow_x": null,
       "overflow_y": null,
       "padding": null,
       "right": null,
       "top": null,
       "visibility": null,
       "width": null
      }
     },
     "8b7e4f0114f243a081f40970457db585": {
      "model_module": "@jupyter-widgets/controls",
      "model_module_version": "1.5.0",
      "model_name": "HTMLModel",
      "state": {
       "_dom_classes": [],
       "_model_module": "@jupyter-widgets/controls",
       "_model_module_version": "1.5.0",
       "_model_name": "HTMLModel",
       "_view_count": null,
       "_view_module": "@jupyter-widgets/controls",
       "_view_module_version": "1.5.0",
       "_view_name": "HTMLView",
       "description": "",
       "description_tooltip": null,
       "layout": "IPY_MODEL_56ea0101f62b4c7a871ece6177a252ab",
       "placeholder": "​",
       "style": "IPY_MODEL_0b9255ab222a4415b7a4b72d36857f2f",
       "value": " 69.7k/69.7k [00:00&lt;00:00, 5.54MB/s]"
      }
     },
     "93a3aa60457240feb324ab1ca7a5bdbe": {
      "model_module": "@jupyter-widgets/controls",
      "model_module_version": "1.5.0",
      "model_name": "DescriptionStyleModel",
      "state": {
       "_model_module": "@jupyter-widgets/controls",
       "_model_module_version": "1.5.0",
       "_model_name": "DescriptionStyleModel",
       "_view_count": null,
       "_view_module": "@jupyter-widgets/base",
       "_view_module_version": "1.2.0",
       "_view_name": "StyleView",
       "description_width": ""
      }
     },
     "963eb597b8fd4e39b332b3d8c0ae3da3": {
      "model_module": "@jupyter-widgets/controls",
      "model_module_version": "1.5.0",
      "model_name": "DescriptionStyleModel",
      "state": {
       "_model_module": "@jupyter-widgets/controls",
       "_model_module_version": "1.5.0",
       "_model_name": "DescriptionStyleModel",
       "_view_count": null,
       "_view_module": "@jupyter-widgets/base",
       "_view_module_version": "1.2.0",
       "_view_name": "StyleView",
       "description_width": ""
      }
     },
     "9fc1a1ccab0648c7bd6439810387f696": {
      "model_module": "@jupyter-widgets/base",
      "model_module_version": "1.2.0",
      "model_name": "LayoutModel",
      "state": {
       "_model_module": "@jupyter-widgets/base",
       "_model_module_version": "1.2.0",
       "_model_name": "LayoutModel",
       "_view_count": null,
       "_view_module": "@jupyter-widgets/base",
       "_view_module_version": "1.2.0",
       "_view_name": "LayoutView",
       "align_content": null,
       "align_items": null,
       "align_self": null,
       "border": null,
       "bottom": null,
       "display": null,
       "flex": null,
       "flex_flow": null,
       "grid_area": null,
       "grid_auto_columns": null,
       "grid_auto_flow": null,
       "grid_auto_rows": null,
       "grid_column": null,
       "grid_gap": null,
       "grid_row": null,
       "grid_template_areas": null,
       "grid_template_columns": null,
       "grid_template_rows": null,
       "height": null,
       "justify_content": null,
       "justify_items": null,
       "left": null,
       "margin": null,
       "max_height": null,
       "max_width": null,
       "min_height": null,
       "min_width": null,
       "object_fit": null,
       "object_position": null,
       "order": null,
       "overflow": null,
       "overflow_x": null,
       "overflow_y": null,
       "padding": null,
       "right": null,
       "top": null,
       "visibility": null,
       "width": null
      }
     },
     "b45b1431d52141f18dd0132de6725ee7": {
      "model_module": "@jupyter-widgets/controls",
      "model_module_version": "1.5.0",
      "model_name": "FloatProgressModel",
      "state": {
       "_dom_classes": [],
       "_model_module": "@jupyter-widgets/controls",
       "_model_module_version": "1.5.0",
       "_model_name": "FloatProgressModel",
       "_view_count": null,
       "_view_module": "@jupyter-widgets/controls",
       "_view_module_version": "1.5.0",
       "_view_name": "ProgressView",
       "bar_style": "success",
       "description": "",
       "description_tooltip": null,
       "layout": "IPY_MODEL_87d4d1e61b4746e3a3345a4b00e51bcb",
       "max": 346293852.0,
       "min": 0.0,
       "orientation": "horizontal",
       "style": "IPY_MODEL_cf0553e9be7543bf98aca6996d2d22f8",
       "value": 346293852.0
      }
     },
     "b7edddc332cc414d962e2d4c2697c79e": {
      "model_module": "@jupyter-widgets/base",
      "model_module_version": "1.2.0",
      "model_name": "LayoutModel",
      "state": {
       "_model_module": "@jupyter-widgets/base",
       "_model_module_version": "1.2.0",
       "_model_name": "LayoutModel",
       "_view_count": null,
       "_view_module": "@jupyter-widgets/base",
       "_view_module_version": "1.2.0",
       "_view_name": "LayoutView",
       "align_content": null,
       "align_items": null,
       "align_self": null,
       "border": null,
       "bottom": null,
       "display": null,
       "flex": null,
       "flex_flow": null,
       "grid_area": null,
       "grid_auto_columns": null,
       "grid_auto_flow": null,
       "grid_auto_rows": null,
       "grid_column": null,
       "grid_gap": null,
       "grid_row": null,
       "grid_template_areas": null,
       "grid_template_columns": null,
       "grid_template_rows": null,
       "height": null,
       "justify_content": null,
       "justify_items": null,
       "left": null,
       "margin": null,
       "max_height": null,
       "max_width": null,
       "min_height": null,
       "min_width": null,
       "object_fit": null,
       "object_position": null,
       "order": null,
       "overflow": null,
       "overflow_x": null,
       "overflow_y": null,
       "padding": null,
       "right": null,
       "top": null,
       "visibility": null,
       "width": null
      }
     },
     "c2fa7e0b613e4959892dcf6deb3f0176": {
      "model_module": "@jupyter-widgets/controls",
      "model_module_version": "1.5.0",
      "model_name": "HTMLModel",
      "state": {
       "_dom_classes": [],
       "_model_module": "@jupyter-widgets/controls",
       "_model_module_version": "1.5.0",
       "_model_name": "HTMLModel",
       "_view_count": null,
       "_view_module": "@jupyter-widgets/controls",
       "_view_module_version": "1.5.0",
       "_view_name": "HTMLView",
       "description": "",
       "description_tooltip": null,
       "layout": "IPY_MODEL_9fc1a1ccab0648c7bd6439810387f696",
       "placeholder": "​",
       "style": "IPY_MODEL_93a3aa60457240feb324ab1ca7a5bdbe",
       "value": "config.json: 100%"
      }
     },
     "cf0553e9be7543bf98aca6996d2d22f8": {
      "model_module": "@jupyter-widgets/controls",
      "model_module_version": "1.5.0",
      "model_name": "ProgressStyleModel",
      "state": {
       "_model_module": "@jupyter-widgets/controls",
       "_model_module_version": "1.5.0",
       "_model_name": "ProgressStyleModel",
       "_view_count": null,
       "_view_module": "@jupyter-widgets/base",
       "_view_module_version": "1.2.0",
       "_view_name": "StyleView",
       "bar_color": null,
       "description_width": ""
      }
     },
     "da5178c09f9f469487e26e475f2d5a8b": {
      "model_module": "@jupyter-widgets/controls",
      "model_module_version": "1.5.0",
      "model_name": "DescriptionStyleModel",
      "state": {
       "_model_module": "@jupyter-widgets/controls",
       "_model_module_version": "1.5.0",
       "_model_name": "DescriptionStyleModel",
       "_view_count": null,
       "_view_module": "@jupyter-widgets/base",
       "_view_module_version": "1.2.0",
       "_view_name": "StyleView",
       "description_width": ""
      }
     },
     "df05fe138b204e27bf816ad47feaceb2": {
      "model_module": "@jupyter-widgets/controls",
      "model_module_version": "1.5.0",
      "model_name": "ProgressStyleModel",
      "state": {
       "_model_module": "@jupyter-widgets/controls",
       "_model_module_version": "1.5.0",
       "_model_name": "ProgressStyleModel",
       "_view_count": null,
       "_view_module": "@jupyter-widgets/base",
       "_view_module_version": "1.2.0",
       "_view_name": "StyleView",
       "bar_color": null,
       "description_width": ""
      }
     }
    },
    "version_major": 2,
    "version_minor": 0
   }
  }
 },
 "nbformat": 4,
 "nbformat_minor": 5
}
